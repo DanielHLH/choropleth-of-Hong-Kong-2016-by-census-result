{
 "cells": [
  {
   "cell_type": "markdown",
   "metadata": {},
   "source": [
    "## Data Preprocessing\n",
    "### Hong Kong 2016 By-census Results\n",
    "The Excel files of By-census results can be obtained in the government website (https://www.bycensus2016.gov.hk/en/bc-index.html). This notebook uses the class Districts (code in District.py) to clean, re-organise, and calculate new statistic  for later data exploring and visualisation."
   ]
  },
  {
   "cell_type": "code",
   "execution_count": 1,
   "metadata": {},
   "outputs": [],
   "source": [
    "import pandas as pd\n",
    "import numpy as np\n",
    "import os\n",
    "from District import District # District is the previously made class"
   ]
  },
  {
   "cell_type": "code",
   "execution_count": 2,
   "metadata": {},
   "outputs": [],
   "source": [
    "# All the name of districts\n",
    "districts = [\"Islands\",\"Sai Kung\",\"Sha Tin\",\n",
    "             \"Tai Po\",\"North\",\"Yuen Long\",\n",
    "             \"Tuen Mun\",\"Tsuen Wan\",\"Kwai Tsing\",\n",
    "             \"Kwun Tong\",\"Wong Tai Sin\",\"Kowloon City\",\n",
    "             \"Sham Shui Po\",\"Yau Tsim Mong\",\"Southern\",\n",
    "             \"Eastern\",\"Wan Chai\",\"Central and Western\"]\n",
    "\n",
    "# Get the path for every districts\n",
    "district_path = [os.path.join(\"data\",district)+\".xlsx\" for district in districts]\n",
    "all_district = {}\n",
    "\n",
    "# Create a DataFrame to get the needed statistic for visualisation\n",
    "# It includes median age, elderly ratio, and ethnicity ratio of every district \n",
    "for i,file in enumerate(district_path):\n",
    "    district = District(file)\n",
    "    all_district[district.name] = district.summary()\n",
    "    \n",
    "# Set each row as a district\n",
    "summary = pd.DataFrame(all_district).T"
   ]
  },
  {
   "cell_type": "code",
   "execution_count": 4,
   "metadata": {},
   "outputs": [],
   "source": [
    "# uncomment to save it to a csv file\n",
    "path = os.path.join(\"data\",\"demographic_summary_2016.csv\")\n",
    "summary.to_csv(path)"
   ]
  }
 ],
 "metadata": {
  "kernelspec": {
   "display_name": "Python 3",
   "language": "python",
   "name": "python3"
  },
  "language_info": {
   "codemirror_mode": {
    "name": "ipython",
    "version": 3
   },
   "file_extension": ".py",
   "mimetype": "text/x-python",
   "name": "python",
   "nbconvert_exporter": "python",
   "pygments_lexer": "ipython3",
   "version": "3.7.1"
  }
 },
 "nbformat": 4,
 "nbformat_minor": 2
}
